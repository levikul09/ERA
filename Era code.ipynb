{
 "cells": [
  {
   "attachments": {},
   "cell_type": "markdown",
   "metadata": {},
   "source": [
    "# Import packages"
   ]
  },
  {
   "cell_type": "code",
   "execution_count": 2,
   "metadata": {},
   "outputs": [],
   "source": [
    "import pandas as pd\n",
    "import sys\n",
    "import numpy as np\n",
    "from numpy import cumsum, log, polyfit, sqrt, std, subtract\n",
    "import matplotlib.pyplot as plt\n",
    "import yfinance as yf\n",
    "from arch import arch_model\n",
    "from arch.unitroot import ADF\n",
    "from statsmodels.tsa.stattools import acf, q_stat, adfuller\n",
    "from statsmodels.graphics.tsaplots import plot_acf, plot_pacf\n",
    "from scipy.stats import probplot, moment, jarque_bera\n",
    "from scipy import stats\n",
    "import warnings\n",
    "warnings.filterwarnings('ignore')\n",
    "from ydata_profiling import ProfileReport"
   ]
  },
  {
   "attachments": {},
   "cell_type": "markdown",
   "metadata": {},
   "source": [
    "# Download data and explore"
   ]
  },
  {
   "cell_type": "code",
   "execution_count": 3,
   "metadata": {},
   "outputs": [
    {
     "name": "stdout",
     "output_type": "stream",
     "text": [
      "[*********************100%***********************]  1 of 1 completed\n"
     ]
    }
   ],
   "source": [
    "# Download data using the yahoo finance API\n",
    "\n",
    "df = yf.download('^GSPC', start='2000-01-01', end='2019-12-31')"
   ]
  },
  {
   "cell_type": "code",
   "execution_count": 4,
   "metadata": {},
   "outputs": [
    {
     "name": "stdout",
     "output_type": "stream",
     "text": [
      "<class 'pandas.core.frame.DataFrame'>\n",
      "DatetimeIndex: 5030 entries, 2000-01-03 00:00:00-05:00 to 2019-12-30 00:00:00-05:00\n",
      "Data columns (total 6 columns):\n",
      " #   Column     Non-Null Count  Dtype  \n",
      "---  ------     --------------  -----  \n",
      " 0   Open       5030 non-null   float64\n",
      " 1   High       5030 non-null   float64\n",
      " 2   Low        5030 non-null   float64\n",
      " 3   Close      5030 non-null   float64\n",
      " 4   Adj Close  5030 non-null   float64\n",
      " 5   Volume     5030 non-null   int64  \n",
      "dtypes: float64(5), int64(1)\n",
      "memory usage: 275.1 KB\n"
     ]
    }
   ],
   "source": [
    "# Info about dataframe\n",
    "\n",
    "df.info()"
   ]
  },
  {
   "cell_type": "code",
   "execution_count": 5,
   "metadata": {},
   "outputs": [
    {
     "data": {
      "text/plain": [
       "0"
      ]
     },
     "execution_count": 5,
     "metadata": {},
     "output_type": "execute_result"
    }
   ],
   "source": [
    "# Checking the null values\n",
    "\n",
    "df.isna().sum().sum()"
   ]
  },
  {
   "cell_type": "code",
   "execution_count": 6,
   "metadata": {},
   "outputs": [],
   "source": [
    "# Filter data down to closing prices\n",
    "\n",
    "df= df[['Adj Close']]"
   ]
  },
  {
   "cell_type": "code",
   "execution_count": 7,
   "metadata": {},
   "outputs": [
    {
     "data": {
      "image/png": "[encoded data removed]",
      "text/plain": [
       "<Figure size 662.4x360 with 1 Axes>"
      ]
     },
     "metadata": {
      "needs_background": "light"
     },
     "output_type": "display_data"
    }
   ],
   "source": [
    "# Plot closing prices\n",
    "\n",
    "fig, ax = plt.subplots(figsize=(9.2, 5))\n",
    "\n",
    "df.plot(ax=ax);"
   ]
  },
  {
   "attachments": {},
   "cell_type": "markdown",
   "metadata": {},
   "source": [
    "# Transform data and explore"
   ]
  },
  {
   "cell_type": "code",
   "execution_count": 8,
   "metadata": {},
   "outputs": [],
   "source": [
    "# Calculate return and log return\n",
    "df['Log_Return'] = np.log(df['Adj Close']).diff().mul(100)"
   ]
  },
  {
   "cell_type": "code",
   "execution_count": 9,
   "metadata": {},
   "outputs": [
    {
     "data": {
      "text/html": [
       "<div>\n",
       "<style scoped>\n",
       "    .dataframe tbody tr th:only-of-type {\n",
       "        vertical-align: middle;\n",
       "    }\n",
       "\n",
       "    .dataframe tbody tr th {\n",
       "        vertical-align: top;\n",
       "    }\n",
       "\n",
       "    .dataframe thead th {\n",
       "        text-align: right;\n",
       "    }\n",
       "</style>\n",
       "<table border=\"1\" class=\"dataframe\">\n",
       "  <thead>\n",
       "    <tr style=\"text-align: right;\">\n",
       "      <th></th>\n",
       "      <th>Adj Close</th>\n",
       "      <th>Log_Return</th>\n",
       "    </tr>\n",
       "    <tr>\n",
       "      <th>Date</th>\n",
       "      <th></th>\n",
       "      <th></th>\n",
       "    </tr>\n",
       "  </thead>\n",
       "  <tbody>\n",
       "    <tr>\n",
       "      <th>2000-01-03 00:00:00-05:00</th>\n",
       "      <td>1455.219971</td>\n",
       "      <td>NaN</td>\n",
       "    </tr>\n",
       "    <tr>\n",
       "      <th>2000-01-04 00:00:00-05:00</th>\n",
       "      <td>1399.420044</td>\n",
       "      <td>-3.909918</td>\n",
       "    </tr>\n",
       "    <tr>\n",
       "      <th>2000-01-05 00:00:00-05:00</th>\n",
       "      <td>1402.109985</td>\n",
       "      <td>0.192034</td>\n",
       "    </tr>\n",
       "    <tr>\n",
       "      <th>2000-01-06 00:00:00-05:00</th>\n",
       "      <td>1403.449951</td>\n",
       "      <td>0.095522</td>\n",
       "    </tr>\n",
       "    <tr>\n",
       "      <th>2000-01-07 00:00:00-05:00</th>\n",
       "      <td>1441.469971</td>\n",
       "      <td>2.672995</td>\n",
       "    </tr>\n",
       "    <tr>\n",
       "      <th>2000-01-10 00:00:00-05:00</th>\n",
       "      <td>1457.599976</td>\n",
       "      <td>1.112782</td>\n",
       "    </tr>\n",
       "    <tr>\n",
       "      <th>2000-01-11 00:00:00-05:00</th>\n",
       "      <td>1438.560059</td>\n",
       "      <td>-1.314858</td>\n",
       "    </tr>\n",
       "    <tr>\n",
       "      <th>2000-01-12 00:00:00-05:00</th>\n",
       "      <td>1432.250000</td>\n",
       "      <td>-0.439602</td>\n",
       "    </tr>\n",
       "    <tr>\n",
       "      <th>2000-01-13 00:00:00-05:00</th>\n",
       "      <td>1449.680054</td>\n",
       "      <td>1.209625</td>\n",
       "    </tr>\n",
       "  </tbody>\n",
       "</table>\n",
       "</div>"
      ],
      "text/plain": [
       "                             Adj Close  Log_Return\n",
       "Date                                              \n",
       "2000-01-03 00:00:00-05:00  1455.219971         NaN\n",
       "2000-01-04 00:00:00-05:00  1399.420044   -3.909918\n",
       "2000-01-05 00:00:00-05:00  1402.109985    0.192034\n",
       "2000-01-06 00:00:00-05:00  1403.449951    0.095522\n",
       "2000-01-07 00:00:00-05:00  1441.469971    2.672995\n",
       "2000-01-10 00:00:00-05:00  1457.599976    1.112782\n",
       "2000-01-11 00:00:00-05:00  1438.560059   -1.314858\n",
       "2000-01-12 00:00:00-05:00  1432.250000   -0.439602\n",
       "2000-01-13 00:00:00-05:00  1449.680054    1.209625"
      ]
     },
     "execution_count": 9,
     "metadata": {},
     "output_type": "execute_result"
    }
   ],
   "source": [
    "# Check some values\n",
    "\n",
    "df.head(9)"
   ]
  },
  {
   "attachments": {},
   "cell_type": "markdown",
   "metadata": {},
   "source": [
    "Thanks to the transformation we get NAs, need to delete that for models to better perform"
   ]
  },
  {
   "cell_type": "code",
   "execution_count": 10,
   "metadata": {},
   "outputs": [],
   "source": [
    "#Drop NA values\n",
    "\n",
    "df = df.dropna()"
   ]
  },
  {
   "cell_type": "code",
   "execution_count": 11,
   "metadata": {},
   "outputs": [
    {
     "data": {
      "text/html": [
       "<div>\n",
       "<style scoped>\n",
       "    .dataframe tbody tr th:only-of-type {\n",
       "        vertical-align: middle;\n",
       "    }\n",
       "\n",
       "    .dataframe tbody tr th {\n",
       "        vertical-align: top;\n",
       "    }\n",
       "\n",
       "    .dataframe thead th {\n",
       "        text-align: right;\n",
       "    }\n",
       "</style>\n",
       "<table border=\"1\" class=\"dataframe\">\n",
       "  <thead>\n",
       "    <tr style=\"text-align: right;\">\n",
       "      <th></th>\n",
       "      <th>Adj Close</th>\n",
       "      <th>Log_Return</th>\n",
       "    </tr>\n",
       "  </thead>\n",
       "  <tbody>\n",
       "    <tr>\n",
       "      <th>count</th>\n",
       "      <td>5029.000000</td>\n",
       "      <td>5029.000000</td>\n",
       "    </tr>\n",
       "    <tr>\n",
       "      <th>mean</th>\n",
       "      <td>1574.703865</td>\n",
       "      <td>0.015801</td>\n",
       "    </tr>\n",
       "    <tr>\n",
       "      <th>std</th>\n",
       "      <td>585.587315</td>\n",
       "      <td>1.189909</td>\n",
       "    </tr>\n",
       "    <tr>\n",
       "      <th>min</th>\n",
       "      <td>676.530029</td>\n",
       "      <td>-9.469512</td>\n",
       "    </tr>\n",
       "    <tr>\n",
       "      <th>25%</th>\n",
       "      <td>1151.439941</td>\n",
       "      <td>-0.471209</td>\n",
       "    </tr>\n",
       "    <tr>\n",
       "      <th>50%</th>\n",
       "      <td>1360.689941</td>\n",
       "      <td>0.054537</td>\n",
       "    </tr>\n",
       "    <tr>\n",
       "      <th>75%</th>\n",
       "      <td>1986.449951</td>\n",
       "      <td>0.566715</td>\n",
       "    </tr>\n",
       "    <tr>\n",
       "      <th>max</th>\n",
       "      <td>3240.020020</td>\n",
       "      <td>10.957197</td>\n",
       "    </tr>\n",
       "  </tbody>\n",
       "</table>\n",
       "</div>"
      ],
      "text/plain": [
       "         Adj Close   Log_Return\n",
       "count  5029.000000  5029.000000\n",
       "mean   1574.703865     0.015801\n",
       "std     585.587315     1.189909\n",
       "min     676.530029    -9.469512\n",
       "25%    1151.439941    -0.471209\n",
       "50%    1360.689941     0.054537\n",
       "75%    1986.449951     0.566715\n",
       "max    3240.020020    10.957197"
      ]
     },
     "execution_count": 11,
     "metadata": {},
     "output_type": "execute_result"
    }
   ],
   "source": [
    "# Get descriptive statistics\n",
    "\n",
    "df.describe()"
   ]
  },
  {
   "cell_type": "code",
   "execution_count": 12,
   "metadata": {},
   "outputs": [
    {
     "data": {
      "text/plain": [
       "Adj Close    -0.071044\n",
       "Log_Return    8.652257\n",
       "dtype: float64"
      ]
     },
     "execution_count": 12,
     "metadata": {},
     "output_type": "execute_result"
    }
   ],
   "source": [
    "df.kurtosis()"
   ]
  },
  {
   "cell_type": "code",
   "execution_count": 13,
   "metadata": {},
   "outputs": [
    {
     "data": {
      "text/plain": [
       "Adj Close     0.988683\n",
       "Log_Return   -0.229555\n",
       "dtype: float64"
      ]
     },
     "execution_count": 13,
     "metadata": {},
     "output_type": "execute_result"
    }
   ],
   "source": [
    "df.skew()"
   ]
  },
  {
   "cell_type": "code",
   "execution_count": 14,
   "metadata": {},
   "outputs": [
    {
     "name": "stdout",
     "output_type": "stream",
     "text": [
      " Jarque Bera test for Closing price: Jarque_beraResult(statistic=819.9060592064609, pvalue=0.0)\n",
      " Jarque Bera test for Log Return: Jarque_beraResult(statistic=15695.267017519633, pvalue=0.0)\n"
     ]
    }
   ],
   "source": [
    "print(f' Jarque Bera test for Closing price: {jarque_bera(x=df[\"Adj Close\"])}')\n",
    "print(f' Jarque Bera test for Log Return: {jarque_bera(x=df[\"Log_Return\"])}')"
   ]
  },
  {
   "cell_type": "code",
   "execution_count": 15,
   "metadata": {},
   "outputs": [],
   "source": [
    "df['Daily_Vol'] = (df['Log_Return'] - df['Log_Return'].mean())**2"
   ]
  },
  {
   "cell_type": "code",
   "execution_count": 16,
   "metadata": {},
   "outputs": [
    {
     "data": {
      "text/html": [
       "<div>\n",
       "<style scoped>\n",
       "    .dataframe tbody tr th:only-of-type {\n",
       "        vertical-align: middle;\n",
       "    }\n",
       "\n",
       "    .dataframe tbody tr th {\n",
       "        vertical-align: top;\n",
       "    }\n",
       "\n",
       "    .dataframe thead th {\n",
       "        text-align: right;\n",
       "    }\n",
       "</style>\n",
       "<table border=\"1\" class=\"dataframe\">\n",
       "  <thead>\n",
       "    <tr style=\"text-align: right;\">\n",
       "      <th></th>\n",
       "      <th>Adj Close</th>\n",
       "      <th>Log_Return</th>\n",
       "      <th>Daily_Vol</th>\n",
       "    </tr>\n",
       "    <tr>\n",
       "      <th>Date</th>\n",
       "      <th></th>\n",
       "      <th></th>\n",
       "      <th></th>\n",
       "    </tr>\n",
       "  </thead>\n",
       "  <tbody>\n",
       "    <tr>\n",
       "      <th>2000-01-04 00:00:00-05:00</th>\n",
       "      <td>1399.420044</td>\n",
       "      <td>-3.909918</td>\n",
       "      <td>15.411265</td>\n",
       "    </tr>\n",
       "    <tr>\n",
       "      <th>2000-01-05 00:00:00-05:00</th>\n",
       "      <td>1402.109985</td>\n",
       "      <td>0.192034</td>\n",
       "      <td>0.031058</td>\n",
       "    </tr>\n",
       "    <tr>\n",
       "      <th>2000-01-06 00:00:00-05:00</th>\n",
       "      <td>1403.449951</td>\n",
       "      <td>0.095522</td>\n",
       "      <td>0.006355</td>\n",
       "    </tr>\n",
       "    <tr>\n",
       "      <th>2000-01-07 00:00:00-05:00</th>\n",
       "      <td>1441.469971</td>\n",
       "      <td>2.672995</td>\n",
       "      <td>7.060681</td>\n",
       "    </tr>\n",
       "    <tr>\n",
       "      <th>2000-01-10 00:00:00-05:00</th>\n",
       "      <td>1457.599976</td>\n",
       "      <td>1.112782</td>\n",
       "      <td>1.203369</td>\n",
       "    </tr>\n",
       "    <tr>\n",
       "      <th>...</th>\n",
       "      <td>...</td>\n",
       "      <td>...</td>\n",
       "      <td>...</td>\n",
       "    </tr>\n",
       "    <tr>\n",
       "      <th>2019-12-23 00:00:00-05:00</th>\n",
       "      <td>3224.010010</td>\n",
       "      <td>0.086577</td>\n",
       "      <td>0.005009</td>\n",
       "    </tr>\n",
       "    <tr>\n",
       "      <th>2019-12-24 00:00:00-05:00</th>\n",
       "      <td>3223.379883</td>\n",
       "      <td>-0.019547</td>\n",
       "      <td>0.001249</td>\n",
       "    </tr>\n",
       "    <tr>\n",
       "      <th>2019-12-26 00:00:00-05:00</th>\n",
       "      <td>3239.909912</td>\n",
       "      <td>0.511506</td>\n",
       "      <td>0.245724</td>\n",
       "    </tr>\n",
       "    <tr>\n",
       "      <th>2019-12-27 00:00:00-05:00</th>\n",
       "      <td>3240.020020</td>\n",
       "      <td>0.003398</td>\n",
       "      <td>0.000154</td>\n",
       "    </tr>\n",
       "    <tr>\n",
       "      <th>2019-12-30 00:00:00-05:00</th>\n",
       "      <td>3221.290039</td>\n",
       "      <td>-0.579760</td>\n",
       "      <td>0.354692</td>\n",
       "    </tr>\n",
       "  </tbody>\n",
       "</table>\n",
       "<p>5029 rows × 3 columns</p>\n",
       "</div>"
      ],
      "text/plain": [
       "                             Adj Close  Log_Return  Daily_Vol\n",
       "Date                                                         \n",
       "2000-01-04 00:00:00-05:00  1399.420044   -3.909918  15.411265\n",
       "2000-01-05 00:00:00-05:00  1402.109985    0.192034   0.031058\n",
       "2000-01-06 00:00:00-05:00  1403.449951    0.095522   0.006355\n",
       "2000-01-07 00:00:00-05:00  1441.469971    2.672995   7.060681\n",
       "2000-01-10 00:00:00-05:00  1457.599976    1.112782   1.203369\n",
       "...                                ...         ...        ...\n",
       "2019-12-23 00:00:00-05:00  3224.010010    0.086577   0.005009\n",
       "2019-12-24 00:00:00-05:00  3223.379883   -0.019547   0.001249\n",
       "2019-12-26 00:00:00-05:00  3239.909912    0.511506   0.245724\n",
       "2019-12-27 00:00:00-05:00  3240.020020    0.003398   0.000154\n",
       "2019-12-30 00:00:00-05:00  3221.290039   -0.579760   0.354692\n",
       "\n",
       "[5029 rows x 3 columns]"
      ]
     },
     "execution_count": 16,
     "metadata": {},
     "output_type": "execute_result"
    }
   ],
   "source": [
    "df"
   ]
  },
  {
   "cell_type": "code",
   "execution_count": 17,
   "metadata": {},
   "outputs": [
    {
     "data": {
      "image/png": "[encoded data removed]",
      "text/plain": [
       "<Figure size 1224x576 with 2 Axes>"
      ]
     },
     "metadata": {
      "needs_background": "light"
     },
     "output_type": "display_data"
    }
   ],
   "source": [
    "fig, ax1 = plt.subplots(figsize=(17, 8))\n",
    "\n",
    "ax2 = ax1.twinx()\n",
    "\n",
    "df.Log_Return.plot(ax=ax1)\n",
    "df.Daily_Vol.plot(ax=ax2, color='red')\n",
    "\n",
    "ax2.tick_params(axis ='y', labelcolor = 'red')"
   ]
  },
  {
   "attachments": {},
   "cell_type": "markdown",
   "metadata": {},
   "source": [
    "# Specify models"
   ]
  },
  {
   "cell_type": "code",
   "execution_count": 18,
   "metadata": {},
   "outputs": [],
   "source": [
    "def hurst(ts):\n",
    "    \"\"\"Returns the Hurst Exponent of the time series vector ts\"\"\"\n",
    "    # Create the range of lag values\n",
    "    lags = range(2, 100)\n",
    "    \n",
    "    # Calculate the array of the variances of the lagged differences\n",
    "    tau = [sqrt(std(subtract(ts[lag:], ts[:-lag]))) for lag in lags]\n",
    "    \n",
    "    # Use a linear fit to estimate the Hurst Exponent\n",
    "    poly = polyfit(log(lags), log(tau), 1)\n",
    "    \n",
    "    # Return the Hurst exponent from the polyfit output\n",
    "    return poly[0]*2.0"
   ]
  },
  {
   "cell_type": "code",
   "execution_count": 19,
   "metadata": {},
   "outputs": [],
   "source": [
    "def plot_correlogram(x, lags=None, title=None):    \n",
    "    lags = min(10, int(len(x)/5)) if lags is None else lags\n",
    "    fig, axes = plt.subplots(nrows=2, ncols=2, figsize=(12, 8))\n",
    "    x.plot(ax=axes[0][0])\n",
    "    q_p = np.max(q_stat(acf(x, nlags=lags), len(x))[1])\n",
    "    #stats = f'Q-Stat: {np.max(q_p):>8.2f}\\nADF: {adfuller(x)[1]:>11.2f} \\nHurst: {round(hurst(x.values),2)}'\n",
    "    #axes[0][0].text(x=.02, y=.85, s=stats, transform=axes[0][0].transAxes)\n",
    "    probplot(x, plot=axes[0][1])\n",
    "    mean, var, skew, kurtosis = moment(x, moment=[1, 2, 3, 4])\n",
    "    #s = f'Mean: {mean:>12.2f}\\nSD: {np.sqrt(var):>16.2f}\\nSkew: {skew:12.2f}\\nKurtosis:{kurtosis:9.2f}'\n",
    "    #axes[0][1].text(x=.02, y=.75, s=s, transform=axes[0][1].transAxes)\n",
    "    plot_acf(x=x, lags=lags, zero=False, ax=axes[1][0])\n",
    "    plot_pacf(x, lags=lags, zero=False, ax=axes[1][1])\n",
    "    axes[1][0].set_xlabel('Lag')\n",
    "    axes[1][1].set_xlabel('Lag')\n",
    "    fig.suptitle(title, fontsize=20)\n",
    "    fig.tight_layout()\n",
    "    fig.subplots_adjust(top=.9)"
   ]
  },
  {
   "cell_type": "code",
   "execution_count": 20,
   "metadata": {},
   "outputs": [
    {
     "data": {
      "image/png": "[encoded data removed]",
      "text/plain": [
       "<Figure size 864x576 with 4 Axes>"
      ]
     },
     "metadata": {
      "needs_background": "light"
     },
     "output_type": "display_data"
    }
   ],
   "source": [
    "plot_correlogram(df['Log_Return'], lags=100, title='Sp500 (Log, Diff)')"
   ]
  },
  {
   "cell_type": "code",
   "execution_count": 21,
   "metadata": {},
   "outputs": [
    {
     "data": {
      "image/png": "[encoded data removed]",
      "text/plain": [
       "<Figure size 864x576 with 4 Axes>"
      ]
     },
     "metadata": {
      "needs_background": "light"
     },
     "output_type": "display_data"
    }
   ],
   "source": [
    "plot_correlogram(df['Log_Return'].sub(df['Log_Return'].mean()).pow(2), lags=100, title='SP500 Daily Volatility')"
   ]
  },
  {
   "attachments": {},
   "cell_type": "markdown",
   "metadata": {},
   "source": [
    "# Garch models"
   ]
  },
  {
   "cell_type": "code",
   "execution_count": 22,
   "metadata": {},
   "outputs": [
    {
     "name": "stdout",
     "output_type": "stream",
     "text": [
      "                     Constant Mean - GARCH Model Results                      \n",
      "==============================================================================\n",
      "Dep. Variable:             Log_Return   R-squared:                       0.000\n",
      "Mean Model:             Constant Mean   Adj. R-squared:                  0.000\n",
      "Vol Model:                      GARCH   Log-Likelihood:               -6818.91\n",
      "Distribution:                  Normal   AIC:                           13645.8\n",
      "Method:            Maximum Likelihood   BIC:                           13671.9\n",
      "                                        No. Observations:                 5029\n",
      "Date:                Tue, Mar 28 2023   Df Residuals:                     5028\n",
      "Time:                        23:13:09   Df Model:                            1\n",
      "                                 Mean Model                                 \n",
      "============================================================================\n",
      "                 coef    std err          t      P>|t|      95.0% Conf. Int.\n",
      "----------------------------------------------------------------------------\n",
      "mu             0.0584  1.116e-02      5.235  1.648e-07 [3.655e-02,8.029e-02]\n",
      "                              Volatility Model                              \n",
      "============================================================================\n",
      "                 coef    std err          t      P>|t|      95.0% Conf. Int.\n",
      "----------------------------------------------------------------------------\n",
      "omega          0.0205  4.824e-03      4.259  2.055e-05 [1.109e-02,3.000e-02]\n",
      "alpha[1]       0.1148  1.355e-02      8.468  2.502e-17   [8.820e-02,  0.141]\n",
      "beta[1]        0.8691  1.390e-02     62.540      0.000     [  0.842,  0.896]\n",
      "============================================================================\n",
      "\n",
      "Covariance estimator: robust\n"
     ]
    }
   ],
   "source": [
    "garch11 = arch_model(df['Log_Return'], p = 1, q = 1, mean = 'constant', vol = 'GARCH', dist = 'normal')\n",
    "\n",
    "garch11res = garch11.fit(update_freq = 4, disp='off')\n",
    "\n",
    "print(garch11res.summary())"
   ]
  },
  {
   "cell_type": "code",
   "execution_count": 23,
   "metadata": {},
   "outputs": [
    {
     "name": "stdout",
     "output_type": "stream",
     "text": [
      "                           Constant Mean - GARCH Model Results                           \n",
      "=========================================================================================\n",
      "Dep. Variable:                        Log_Return   R-squared:                       0.000\n",
      "Mean Model:                        Constant Mean   Adj. R-squared:                  0.000\n",
      "Vol Model:                                 GARCH   Log-Likelihood:               -6693.61\n",
      "Distribution:      Standardized Skew Student's t   AIC:                           13399.2\n",
      "Method:                       Maximum Likelihood   BIC:                           13438.4\n",
      "                                                   No. Observations:                 5029\n",
      "Date:                           Tue, Mar 28 2023   Df Residuals:                     5028\n",
      "Time:                                   23:13:10   Df Model:                            1\n",
      "                                 Mean Model                                 \n",
      "============================================================================\n",
      "                 coef    std err          t      P>|t|      95.0% Conf. Int.\n",
      "----------------------------------------------------------------------------\n",
      "mu             0.0518  1.081e-02      4.791  1.657e-06 [3.062e-02,7.300e-02]\n",
      "                              Volatility Model                              \n",
      "============================================================================\n",
      "                 coef    std err          t      P>|t|      95.0% Conf. Int.\n",
      "----------------------------------------------------------------------------\n",
      "omega          0.0113  3.002e-03      3.781  1.565e-04 [5.465e-03,1.723e-02]\n",
      "alpha[1]       0.1104  1.230e-02      8.981  2.687e-19   [8.634e-02,  0.135]\n",
      "beta[1]        0.8849  1.213e-02     72.932      0.000     [  0.861,  0.909]\n",
      "                                Distribution                               \n",
      "===========================================================================\n",
      "                 coef    std err          t      P>|t|     95.0% Conf. Int.\n",
      "---------------------------------------------------------------------------\n",
      "eta            6.7548      0.658     10.262  1.043e-24    [  5.465,  8.045]\n",
      "lambda        -0.0991  1.658e-02     -5.978  2.263e-09 [ -0.132,-6.662e-02]\n",
      "===========================================================================\n",
      "\n",
      "Covariance estimator: robust\n"
     ]
    }
   ],
   "source": [
    "garchskewt = arch_model(df['Log_Return'], p = 1, q = 1, mean = 'constant', vol = 'GARCH', dist = 'skewt')\n",
    "\n",
    "garchskewtres = garchskewt.fit(update_freq = 4, disp='off')\n",
    "\n",
    "print(garchskewtres.summary())"
   ]
  },
  {
   "cell_type": "code",
   "execution_count": 24,
   "metadata": {},
   "outputs": [
    {
     "name": "stdout",
     "output_type": "stream",
     "text": [
      "                        Constant Mean - GARCH Model Results                         \n",
      "====================================================================================\n",
      "Dep. Variable:                   Log_Return   R-squared:                       0.000\n",
      "Mean Model:                   Constant Mean   Adj. R-squared:                  0.000\n",
      "Vol Model:                            GARCH   Log-Likelihood:               -6707.87\n",
      "Distribution:      Standardized Student's t   AIC:                           13425.7\n",
      "Method:                  Maximum Likelihood   BIC:                           13458.4\n",
      "                                              No. Observations:                 5029\n",
      "Date:                      Tue, Mar 28 2023   Df Residuals:                     5028\n",
      "Time:                              23:13:10   Df Model:                            1\n",
      "                                 Mean Model                                 \n",
      "============================================================================\n",
      "                 coef    std err          t      P>|t|      95.0% Conf. Int.\n",
      "----------------------------------------------------------------------------\n",
      "mu             0.0693  1.002e-02      6.912  4.768e-12 [4.964e-02,8.894e-02]\n",
      "                              Volatility Model                              \n",
      "============================================================================\n",
      "                 coef    std err          t      P>|t|      95.0% Conf. Int.\n",
      "----------------------------------------------------------------------------\n",
      "omega          0.0112  3.095e-03      3.625  2.888e-04 [5.154e-03,1.729e-02]\n",
      "alpha[1]       0.1118  1.299e-02      8.610  7.299e-18   [8.637e-02,  0.137]\n",
      "beta[1]        0.8857  1.251e-02     70.809      0.000     [  0.861,  0.910]\n",
      "                              Distribution                              \n",
      "========================================================================\n",
      "                 coef    std err          t      P>|t|  95.0% Conf. Int.\n",
      "------------------------------------------------------------------------\n",
      "nu             6.2633      0.578     10.832  2.422e-27 [  5.130,  7.397]\n",
      "========================================================================\n",
      "\n",
      "Covariance estimator: robust\n"
     ]
    }
   ],
   "source": [
    "garchstudent = arch_model(df['Log_Return'], p = 1, q = 1, mean = 'constant', vol = 'GARCH', dist = 'studentst')\n",
    "\n",
    "garchstudentres = garchstudent.fit(update_freq = 4, disp='off')\n",
    "\n",
    "print(garchstudentres.summary())"
   ]
  },
  {
   "attachments": {},
   "cell_type": "markdown",
   "metadata": {},
   "source": [
    "# EGARCH models"
   ]
  },
  {
   "cell_type": "code",
   "execution_count": 25,
   "metadata": {},
   "outputs": [
    {
     "name": "stdout",
     "output_type": "stream",
     "text": [
      "                     Constant Mean - EGARCH Model Results                     \n",
      "==============================================================================\n",
      "Dep. Variable:             Log_Return   R-squared:                       0.000\n",
      "Mean Model:             Constant Mean   Adj. R-squared:                  0.000\n",
      "Vol Model:                     EGARCH   Log-Likelihood:               -6691.48\n",
      "Distribution:                  Normal   AIC:                           13393.0\n",
      "Method:            Maximum Likelihood   BIC:                           13425.6\n",
      "                                        No. Observations:                 5029\n",
      "Date:                Tue, Mar 28 2023   Df Residuals:                     5028\n",
      "Time:                        23:13:10   Df Model:                            1\n",
      "                                 Mean Model                                 \n",
      "============================================================================\n",
      "                 coef    std err          t      P>|t|      95.0% Conf. Int.\n",
      "----------------------------------------------------------------------------\n",
      "mu             0.0226  1.065e-02      2.122  3.387e-02 [1.721e-03,4.346e-02]\n",
      "                               Volatility Model                               \n",
      "==============================================================================\n",
      "                  coef    std err          t      P>|t|       95.0% Conf. Int.\n",
      "------------------------------------------------------------------------------\n",
      "omega      -2.1053e-03  3.057e-03     -0.689      0.491 [-8.096e-03,3.885e-03]\n",
      "alpha[1]        0.1416  1.581e-02      8.956  3.352e-19      [  0.111,  0.173]\n",
      "gamma[1]       -0.1603  1.476e-02    -10.862  1.746e-27      [ -0.189, -0.131]\n",
      "beta[1]         0.9722  4.403e-03    220.815      0.000      [  0.964,  0.981]\n",
      "==============================================================================\n",
      "\n",
      "Covariance estimator: robust\n"
     ]
    }
   ],
   "source": [
    "\n",
    "egarch = arch_model(df['Log_Return'], p = 1, q = 1, o = 1, vol = 'EGARCH', dist = 'normal')\n",
    "\n",
    "egarchres = egarch.fit(disp = 'off')\n",
    "\n",
    "print(egarchres.summary())"
   ]
  },
  {
   "cell_type": "code",
   "execution_count": 26,
   "metadata": {},
   "outputs": [
    {
     "name": "stdout",
     "output_type": "stream",
     "text": [
      "                        Constant Mean - EGARCH Model Results                        \n",
      "====================================================================================\n",
      "Dep. Variable:                   Log_Return   R-squared:                       0.000\n",
      "Mean Model:                   Constant Mean   Adj. R-squared:                  0.000\n",
      "Vol Model:                           EGARCH   Log-Likelihood:               -6600.46\n",
      "Distribution:      Standardized Student's t   AIC:                           13212.9\n",
      "Method:                  Maximum Likelihood   BIC:                           13252.1\n",
      "                                              No. Observations:                 5029\n",
      "Date:                      Tue, Mar 28 2023   Df Residuals:                     5028\n",
      "Time:                              23:13:10   Df Model:                            1\n",
      "                                 Mean Model                                 \n",
      "============================================================================\n",
      "                 coef    std err          t      P>|t|      95.0% Conf. Int.\n",
      "----------------------------------------------------------------------------\n",
      "mu             0.0408  9.966e-03      4.092  4.271e-05 [2.125e-02,6.032e-02]\n",
      "                               Volatility Model                               \n",
      "==============================================================================\n",
      "                  coef    std err          t      P>|t|       95.0% Conf. Int.\n",
      "------------------------------------------------------------------------------\n",
      "omega      -4.1731e-03  2.866e-03     -1.456      0.145 [-9.790e-03,1.444e-03]\n",
      "alpha[1]        0.1348  1.482e-02      9.096  9.352e-20      [  0.106,  0.164]\n",
      "gamma[1]       -0.1643  1.413e-02    -11.633  2.796e-31      [ -0.192, -0.137]\n",
      "beta[1]         0.9803  3.686e-03    265.946      0.000      [  0.973,  0.988]\n",
      "                              Distribution                              \n",
      "========================================================================\n",
      "                 coef    std err          t      P>|t|  95.0% Conf. Int.\n",
      "------------------------------------------------------------------------\n",
      "nu             7.0390      0.712      9.893  4.462e-23 [  5.644,  8.434]\n",
      "========================================================================\n",
      "\n",
      "Covariance estimator: robust\n"
     ]
    }
   ],
   "source": [
    "egarchstud = arch_model(df['Log_Return'], p = 1, q = 1, o = 1, vol = 'EGARCH', dist = 'studentst')\n",
    "\n",
    "egarchstudres = egarchstud.fit(disp = 'off')\n",
    "\n",
    "print(egarchstudres.summary())"
   ]
  },
  {
   "cell_type": "code",
   "execution_count": 27,
   "metadata": {},
   "outputs": [
    {
     "name": "stdout",
     "output_type": "stream",
     "text": [
      "                           Constant Mean - EGARCH Model Results                          \n",
      "=========================================================================================\n",
      "Dep. Variable:                        Log_Return   R-squared:                       0.000\n",
      "Mean Model:                        Constant Mean   Adj. R-squared:                  0.000\n",
      "Vol Model:                                EGARCH   Log-Likelihood:               -6574.16\n",
      "Distribution:      Standardized Skew Student's t   AIC:                           13162.3\n",
      "Method:                       Maximum Likelihood   BIC:                           13208.0\n",
      "                                                   No. Observations:                 5029\n",
      "Date:                           Tue, Mar 28 2023   Df Residuals:                     5028\n",
      "Time:                                   23:13:11   Df Model:                            1\n",
      "                                  Mean Model                                 \n",
      "=============================================================================\n",
      "                 coef    std err          t      P>|t|       95.0% Conf. Int.\n",
      "-----------------------------------------------------------------------------\n",
      "mu             0.0182  3.759e-02      0.484      0.629 [-5.550e-02,9.186e-02]\n",
      "                               Volatility Model                               \n",
      "==============================================================================\n",
      "                  coef    std err          t      P>|t|       95.0% Conf. Int.\n",
      "------------------------------------------------------------------------------\n",
      "omega      -8.7829e-04  8.304e-03     -0.106      0.916 [-1.715e-02,1.540e-02]\n",
      "alpha[1]        0.1373  1.501e-02      9.144  6.013e-20      [  0.108,  0.167]\n",
      "gamma[1]       -0.1700  1.558e-02    -10.912  1.011e-27      [ -0.200, -0.139]\n",
      "beta[1]         0.9769  6.138e-03    159.139      0.000      [  0.965,  0.989]\n",
      "                                Distribution                               \n",
      "===========================================================================\n",
      "                 coef    std err          t      P>|t|     95.0% Conf. Int.\n",
      "---------------------------------------------------------------------------\n",
      "eta            7.6167      0.815      9.345  9.182e-21    [  6.019,  9.214]\n",
      "lambda        -0.1385  2.583e-02     -5.364  8.118e-08 [ -0.189,-8.792e-02]\n",
      "===========================================================================\n",
      "\n",
      "Covariance estimator: robust\n"
     ]
    }
   ],
   "source": [
    "egarchskew = arch_model(df['Log_Return'], p = 1, q = 1, o = 1, vol = 'EGARCH', dist = 'skewt')\n",
    "\n",
    "egarchskewres = egarchskew.fit(disp = 'off')\n",
    "\n",
    "print(egarchskewres.summary())"
   ]
  },
  {
   "attachments": {},
   "cell_type": "markdown",
   "metadata": {},
   "source": [
    "# GJR models"
   ]
  },
  {
   "cell_type": "code",
   "execution_count": 28,
   "metadata": {},
   "outputs": [
    {
     "name": "stdout",
     "output_type": "stream",
     "text": [
      "                   Constant Mean - GJR-GARCH Model Results                    \n",
      "==============================================================================\n",
      "Dep. Variable:             Log_Return   R-squared:                       0.000\n",
      "Mean Model:             Constant Mean   Adj. R-squared:                  0.000\n",
      "Vol Model:                  GJR-GARCH   Log-Likelihood:               -6704.22\n",
      "Distribution:                  Normal   AIC:                           13418.4\n",
      "Method:            Maximum Likelihood   BIC:                           13451.1\n",
      "                                        No. Observations:                 5029\n",
      "Date:                Tue, Mar 28 2023   Df Residuals:                     5028\n",
      "Time:                        23:13:11   Df Model:                            1\n",
      "                                  Mean Model                                 \n",
      "=============================================================================\n",
      "                 coef    std err          t      P>|t|       95.0% Conf. Int.\n",
      "-----------------------------------------------------------------------------\n",
      "mu             0.0189  1.116e-02      1.692  9.061e-02 [-2.987e-03,4.074e-02]\n",
      "                               Volatility Model                              \n",
      "=============================================================================\n",
      "                 coef    std err          t      P>|t|       95.0% Conf. Int.\n",
      "-----------------------------------------------------------------------------\n",
      "omega          0.0221  3.866e-03      5.723  1.045e-08  [1.455e-02,2.970e-02]\n",
      "alpha[1]   4.9432e-10  1.064e-02  4.647e-08      1.000 [-2.085e-02,2.085e-02]\n",
      "gamma[1]       0.1961  2.260e-02      8.678  4.038e-18      [  0.152,  0.240]\n",
      "beta[1]        0.8803  1.336e-02     65.877      0.000      [  0.854,  0.907]\n",
      "=============================================================================\n",
      "\n",
      "Covariance estimator: robust\n"
     ]
    }
   ],
   "source": [
    "\n",
    "gjr = arch_model(df['Log_Return'], p = 1, q = 1, o = 1, vol = 'GARCH', dist = 'normal')\n",
    "\n",
    "gjrres = gjr.fit(disp = 'off')\n",
    "\n",
    "print(gjrres.summary())"
   ]
  },
  {
   "cell_type": "code",
   "execution_count": 29,
   "metadata": {},
   "outputs": [
    {
     "name": "stdout",
     "output_type": "stream",
     "text": [
      "                      Constant Mean - GJR-GARCH Model Results                       \n",
      "====================================================================================\n",
      "Dep. Variable:                   Log_Return   R-squared:                       0.000\n",
      "Mean Model:                   Constant Mean   Adj. R-squared:                  0.000\n",
      "Vol Model:                        GJR-GARCH   Log-Likelihood:               -6618.29\n",
      "Distribution:      Standardized Student's t   AIC:                           13248.6\n",
      "Method:                  Maximum Likelihood   BIC:                           13287.7\n",
      "                                              No. Observations:                 5029\n",
      "Date:                      Tue, Mar 28 2023   Df Residuals:                     5028\n",
      "Time:                              23:13:11   Df Model:                            1\n",
      "                                 Mean Model                                 \n",
      "============================================================================\n",
      "                 coef    std err          t      P>|t|      95.0% Conf. Int.\n",
      "----------------------------------------------------------------------------\n",
      "mu             0.0405  1.015e-02      3.994  6.499e-05 [2.065e-02,6.044e-02]\n",
      "                               Volatility Model                              \n",
      "=============================================================================\n",
      "                 coef    std err          t      P>|t|       95.0% Conf. Int.\n",
      "-----------------------------------------------------------------------------\n",
      "omega          0.0158  3.092e-03      5.102  3.362e-07  [9.715e-03,2.184e-02]\n",
      "alpha[1]       0.0000  9.858e-03      0.000      1.000 [-1.932e-02,1.932e-02]\n",
      "gamma[1]       0.2022  2.401e-02      8.420  3.750e-17      [  0.155,  0.249]\n",
      "beta[1]        0.8849  1.338e-02     66.121      0.000      [  0.859,  0.911]\n",
      "                              Distribution                              \n",
      "========================================================================\n",
      "                 coef    std err          t      P>|t|  95.0% Conf. Int.\n",
      "------------------------------------------------------------------------\n",
      "nu             7.1935      0.757      9.500  2.107e-21 [  5.709,  8.678]\n",
      "========================================================================\n",
      "\n",
      "Covariance estimator: robust\n"
     ]
    }
   ],
   "source": [
    "gjrstud = arch_model(df['Log_Return'], p = 1, q = 1, o = 1, vol = 'GARCH', dist = 'studentst')\n",
    "\n",
    "gjrstudres = gjrstud.fit(disp = 'off')\n",
    "\n",
    "print(gjrstudres.summary())"
   ]
  },
  {
   "cell_type": "code",
   "execution_count": 30,
   "metadata": {},
   "outputs": [
    {
     "name": "stdout",
     "output_type": "stream",
     "text": [
      "                         Constant Mean - GJR-GARCH Model Results                         \n",
      "=========================================================================================\n",
      "Dep. Variable:                        Log_Return   R-squared:                       0.000\n",
      "Mean Model:                        Constant Mean   Adj. R-squared:                  0.000\n",
      "Vol Model:                             GJR-GARCH   Log-Likelihood:               -6592.71\n",
      "Distribution:      Standardized Skew Student's t   AIC:                           13199.4\n",
      "Method:                       Maximum Likelihood   BIC:                           13245.1\n",
      "                                                   No. Observations:                 5029\n",
      "Date:                           Tue, Mar 28 2023   Df Residuals:                     5028\n",
      "Time:                                   23:13:11   Df Model:                            1\n",
      "                                  Mean Model                                 \n",
      "=============================================================================\n",
      "                 coef    std err          t      P>|t|       95.0% Conf. Int.\n",
      "-----------------------------------------------------------------------------\n",
      "mu             0.0181  1.083e-02      1.668  9.529e-02 [-3.162e-03,3.931e-02]\n",
      "                               Volatility Model                              \n",
      "=============================================================================\n",
      "                 coef    std err          t      P>|t|       95.0% Conf. Int.\n",
      "-----------------------------------------------------------------------------\n",
      "omega          0.0173  3.143e-03      5.499  3.820e-08  [1.112e-02,2.345e-02]\n",
      "alpha[1]       0.0000  9.786e-03      0.000      1.000 [-1.918e-02,1.918e-02]\n",
      "gamma[1]       0.2094  2.415e-02      8.673  4.197e-18      [  0.162,  0.257]\n",
      "beta[1]        0.8825  1.313e-02     67.199      0.000      [  0.857,  0.908]\n",
      "                              Distribution                              \n",
      "========================================================================\n",
      "                 coef    std err          t      P>|t|  95.0% Conf. Int.\n",
      "------------------------------------------------------------------------\n",
      "eta            7.7861      0.861      9.046  1.486e-19 [  6.099,  9.473]\n",
      "lambda        -0.1356  1.750e-02     -7.746  9.468e-15 [ -0.170, -0.101]\n",
      "========================================================================\n",
      "\n",
      "Covariance estimator: robust\n"
     ]
    }
   ],
   "source": [
    "gjrskew = arch_model(df['Log_Return'], p = 1, q = 1, o = 1, vol = 'GARCH', dist = 'skewt')\n",
    "\n",
    "gjrskewres = gjrskew.fit(disp = 'off')\n",
    "\n",
    "print(gjrskewres.summary())"
   ]
  },
  {
   "attachments": {},
   "cell_type": "markdown",
   "metadata": {},
   "source": [
    "# Aparch models"
   ]
  },
  {
   "cell_type": "code",
   "execution_count": 31,
   "metadata": {},
   "outputs": [
    {
     "name": "stdout",
     "output_type": "stream",
     "text": [
      "                     Constant Mean - APARCH Model Results                     \n",
      "==============================================================================\n",
      "Dep. Variable:             Log_Return   R-squared:                       0.000\n",
      "Mean Model:             Constant Mean   Adj. R-squared:                  0.000\n",
      "Vol Model:                     APARCH   Log-Likelihood:               -6671.43\n",
      "Distribution:                  Normal   AIC:                           13354.9\n",
      "Method:            Maximum Likelihood   BIC:                           13394.0\n",
      "                                        No. Observations:                 5029\n",
      "Date:                Tue, Mar 28 2023   Df Residuals:                     5028\n",
      "Time:                        23:13:12   Df Model:                            1\n",
      "                                  Mean Model                                 \n",
      "=============================================================================\n",
      "                 coef    std err          t      P>|t|       95.0% Conf. Int.\n",
      "-----------------------------------------------------------------------------\n",
      "mu             0.0164  1.258e-02      1.308      0.191 [-8.201e-03,4.110e-02]\n",
      "                              Volatility Model                              \n",
      "============================================================================\n",
      "                 coef    std err          t      P>|t|      95.0% Conf. Int.\n",
      "----------------------------------------------------------------------------\n",
      "omega          0.0281  4.189e-03      6.705  2.017e-11 [1.988e-02,3.630e-02]\n",
      "alpha[1]       0.0910  7.851e-03     11.592  4.535e-31   [7.562e-02,  0.106]\n",
      "gamma[1]       0.9997  6.370e-03    156.936      0.000     [  0.987,  1.012]\n",
      "beta[1]        0.9045  8.799e-03    102.786      0.000     [  0.887,  0.922]\n",
      "delta          0.9538      0.124      7.708  1.276e-14     [  0.711,  1.196]\n",
      "============================================================================\n",
      "\n",
      "Covariance estimator: robust\n"
     ]
    }
   ],
   "source": [
    "aparch = arch_model(df['Log_Return'], p = 1, q = 1, o = 1, vol = 'APARCH', dist = 'normal')\n",
    "\n",
    "aparchres = aparch.fit(disp = 'off')\n",
    "\n",
    "print(aparchres.summary())"
   ]
  },
  {
   "cell_type": "code",
   "execution_count": 32,
   "metadata": {},
   "outputs": [
    {
     "name": "stdout",
     "output_type": "stream",
     "text": [
      "                           Constant Mean - APARCH Model Results                          \n",
      "=========================================================================================\n",
      "Dep. Variable:                        Log_Return   R-squared:                       0.000\n",
      "Mean Model:                        Constant Mean   Adj. R-squared:                  0.000\n",
      "Vol Model:                                APARCH   Log-Likelihood:               -6560.72\n",
      "Distribution:      Standardized Skew Student's t   AIC:                           13137.4\n",
      "Method:                       Maximum Likelihood   BIC:                           13189.6\n",
      "                                                   No. Observations:                 5029\n",
      "Date:                           Tue, Mar 28 2023   Df Residuals:                     5028\n",
      "Time:                                   23:13:13   Df Model:                            1\n",
      "                                  Mean Model                                 \n",
      "=============================================================================\n",
      "                 coef    std err          t      P>|t|       95.0% Conf. Int.\n",
      "-----------------------------------------------------------------------------\n",
      "mu             0.0132  1.027e-02      1.289      0.197 [-6.894e-03,3.337e-02]\n",
      "                              Volatility Model                              \n",
      "============================================================================\n",
      "                 coef    std err          t      P>|t|      95.0% Conf. Int.\n",
      "----------------------------------------------------------------------------\n",
      "omega          0.0247  3.805e-03      6.493  8.440e-11 [1.725e-02,3.216e-02]\n",
      "alpha[1]       0.0950  7.975e-03     11.906  1.098e-32   [7.932e-02,  0.111]\n",
      "gamma[1]       0.9997  7.216e-03    138.532      0.000     [  0.986,  1.014]\n",
      "beta[1]        0.9050  8.545e-03    105.918      0.000     [  0.888,  0.922]\n",
      "delta          0.9698  9.528e-02     10.178  2.476e-24     [  0.783,  1.157]\n",
      "                              Distribution                              \n",
      "========================================================================\n",
      "                 coef    std err          t      P>|t|  95.0% Conf. Int.\n",
      "------------------------------------------------------------------------\n",
      "eta            8.1409      0.912      8.928  4.337e-19 [  6.354,  9.928]\n",
      "lambda        -0.1438  1.762e-02     -8.157  3.441e-16 [ -0.178, -0.109]\n",
      "========================================================================\n",
      "\n",
      "Covariance estimator: robust\n"
     ]
    }
   ],
   "source": [
    "aparchskew = arch_model(df['Log_Return'], p = 1, q = 1, o = 1, vol = 'APARCH', dist = 'skewt')\n",
    "\n",
    "aparchskewres = aparchskew.fit(disp = 'off')\n",
    "\n",
    "print(aparchskewres.summary())"
   ]
  },
  {
   "cell_type": "code",
   "execution_count": 33,
   "metadata": {},
   "outputs": [
    {
     "name": "stdout",
     "output_type": "stream",
     "text": [
      "                        Constant Mean - APARCH Model Results                        \n",
      "====================================================================================\n",
      "Dep. Variable:                   Log_Return   R-squared:                       0.000\n",
      "Mean Model:                   Constant Mean   Adj. R-squared:                  0.000\n",
      "Vol Model:                           APARCH   Log-Likelihood:               -6589.20\n",
      "Distribution:      Standardized Student's t   AIC:                           13192.4\n",
      "Method:                  Maximum Likelihood   BIC:                           13238.1\n",
      "                                              No. Observations:                 5029\n",
      "Date:                      Tue, Mar 28 2023   Df Residuals:                     5028\n",
      "Time:                              23:13:14   Df Model:                            1\n",
      "                                 Mean Model                                 \n",
      "============================================================================\n",
      "                 coef    std err          t      P>|t|      95.0% Conf. Int.\n",
      "----------------------------------------------------------------------------\n",
      "mu             0.0351  9.962e-03      3.527  4.210e-04 [1.561e-02,5.466e-02]\n",
      "                              Volatility Model                              \n",
      "============================================================================\n",
      "                 coef    std err          t      P>|t|      95.0% Conf. Int.\n",
      "----------------------------------------------------------------------------\n",
      "omega          0.0217  3.617e-03      5.995  2.029e-09 [1.459e-02,2.877e-02]\n",
      "alpha[1]       0.0919  8.044e-03     11.430  2.972e-30   [7.617e-02,  0.108]\n",
      "gamma[1]       0.9997  1.250e-02     79.947      0.000     [  0.975,  1.024]\n",
      "beta[1]        0.9081  8.722e-03    104.115      0.000     [  0.891,  0.925]\n",
      "delta          0.9816  9.288e-02     10.568  4.200e-26     [  0.800,  1.164]\n",
      "                              Distribution                              \n",
      "========================================================================\n",
      "                 coef    std err          t      P>|t|  95.0% Conf. Int.\n",
      "------------------------------------------------------------------------\n",
      "nu             7.4403      0.785      9.477  2.609e-21 [  5.902,  8.979]\n",
      "========================================================================\n",
      "\n",
      "Covariance estimator: robust\n"
     ]
    }
   ],
   "source": [
    "aparchstud = arch_model(df['Log_Return'], p = 1, q = 1, o = 1, vol = 'APARCH', dist = 'studentst')\n",
    "\n",
    "aparchstudres = aparchstud.fit(disp = 'off')\n",
    "\n",
    "print(aparchstudres.summary())"
   ]
  },
  {
   "cell_type": "code",
   "execution_count": 34,
   "metadata": {},
   "outputs": [],
   "source": [
    "modelslist= [aparchstud, aparchskew, aparch, gjr, gjrskew, gjrstud, egarchskew, egarchstud, egarch, garch11, garchskewt, garchstudent]"
   ]
  },
  {
   "cell_type": "code",
   "execution_count": 35,
   "metadata": {},
   "outputs": [
    {
     "data": {
      "text/html": [
       "<div>\n",
       "<style scoped>\n",
       "    .dataframe tbody tr th:only-of-type {\n",
       "        vertical-align: middle;\n",
       "    }\n",
       "\n",
       "    .dataframe tbody tr th {\n",
       "        vertical-align: top;\n",
       "    }\n",
       "\n",
       "    .dataframe thead th {\n",
       "        text-align: right;\n",
       "    }\n",
       "</style>\n",
       "<table border=\"1\" class=\"dataframe\">\n",
       "  <thead>\n",
       "    <tr style=\"text-align: right;\">\n",
       "      <th></th>\n",
       "      <th>Adj Close</th>\n",
       "      <th>Log_Return</th>\n",
       "      <th>Daily_Vol</th>\n",
       "    </tr>\n",
       "    <tr>\n",
       "      <th>Date</th>\n",
       "      <th></th>\n",
       "      <th></th>\n",
       "      <th></th>\n",
       "    </tr>\n",
       "  </thead>\n",
       "  <tbody>\n",
       "    <tr>\n",
       "      <th>2019-10-04 00:00:00-04:00</th>\n",
       "      <td>2952.01001</td>\n",
       "      <td>1.411679</td>\n",
       "      <td>1.948474</td>\n",
       "    </tr>\n",
       "  </tbody>\n",
       "</table>\n",
       "</div>"
      ],
      "text/plain": [
       "                            Adj Close  Log_Return  Daily_Vol\n",
       "Date                                                        \n",
       "2019-10-04 00:00:00-04:00  2952.01001    1.411679   1.948474"
      ]
     },
     "execution_count": 35,
     "metadata": {},
     "output_type": "execute_result"
    }
   ],
   "source": [
    "df.tail(60).head(1)"
   ]
  },
  {
   "cell_type": "code",
   "execution_count": 36,
   "metadata": {},
   "outputs": [
    {
     "name": "stdout",
     "output_type": "stream",
     "text": [
      "------------------------------------------------------------ Done!\n"
     ]
    }
   ],
   "source": [
    "index = df.index\n",
    "start_loc = 0\n",
    "end_loc = np.where(index >= '2019-10-04')[0].min()\n",
    "forecasts = {}\n",
    "\n",
    "for i in range(60):\n",
    "        sys.stdout.write('-')\n",
    "        sys.stdout.flush()\n",
    "        res = aparchstud.fit(first_obs = start_loc, last_obs = i + end_loc, disp = 'off')\n",
    "        temp = res.forecast(horizon=1).variance\n",
    "        fcast = temp.iloc[i + end_loc - 1]\n",
    "        forecasts[fcast.name] = fcast\n",
    "print(' Done!')\n",
    "aparchstud_res = pd.DataFrame(forecasts).T"
   ]
  },
  {
   "cell_type": "code",
   "execution_count": 37,
   "metadata": {},
   "outputs": [
    {
     "name": "stdout",
     "output_type": "stream",
     "text": [
      "------------------------------------------------------------ Done!\n"
     ]
    }
   ],
   "source": [
    "index = df.index\n",
    "start_loc = 0\n",
    "end_loc = np.where(index >= '2019-10-04')[0].min()\n",
    "forecasts = {}\n",
    "\n",
    "for i in range(60):\n",
    "        sys.stdout.write('-')\n",
    "        sys.stdout.flush()\n",
    "        res = garch11.fit(first_obs = start_loc, last_obs = i + end_loc, disp = 'off')\n",
    "        temp = res.forecast(horizon=1).variance\n",
    "        fcast = temp.iloc[i + end_loc - 1]\n",
    "        forecasts[fcast.name] = fcast\n",
    "print(' Done!')\n",
    "garch11_res = pd.DataFrame(forecasts).T"
   ]
  },
  {
   "cell_type": "code",
   "execution_count": 38,
   "metadata": {},
   "outputs": [
    {
     "data": {
      "text/plain": [
       "[<matplotlib.lines.Line2D at 0x25f909e4820>]"
      ]
     },
     "execution_count": 38,
     "metadata": {},
     "output_type": "execute_result"
    },
    {
     "data": {
      "image/png": "[encoded data removed]",
      "text/plain": [
       "<Figure size 720x360 with 1 Axes>"
      ]
     },
     "metadata": {
      "needs_background": "light"
     },
     "output_type": "display_data"
    }
   ],
   "source": [
    "# Plot results\n",
    "plt.figure(figsize=(10,5))\n",
    "\n",
    "# Plot volatility forecast with an expanding window\n",
    "plt.plot(np.sqrt(aparchstud_res), color = 'blue', label='Expanding Window')\n",
    "\n",
    "# Plot volatility forecast with an expanding window\n",
    "plt.plot(np.sqrt(garch11_res), color = 'red', label='Expanding Window')\n",
    "\n",
    "plt.plot(df.Daily_Vol.loc[aparchstud_res.index], color = 'grey', label='Daily Volatitlity')\n",
    "\n",
    "#plt.plot(df.Log_Return.loc[aparchstud_res.index], color = 'green', label='Daily Return')"
   ]
  },
  {
   "cell_type": "code",
   "execution_count": 39,
   "metadata": {},
   "outputs": [],
   "source": [
    "from sklearn.metrics import mean_absolute_error, mean_squared_error\n",
    "\n",
    "def evaluate(observation, forecast): \n",
    "    # Call sklearn function to calculate MAE\n",
    "    mae = mean_absolute_error(observation, forecast)\n",
    "    print(f'Mean Absolute Error (MAE): {round(mae,3)}')\n",
    "    # Call sklearn function to calculate MSE\n",
    "    mse = mean_squared_error(observation, forecast)\n",
    "    print(f'Mean Squared Error (MSE): {round(mse,3)}')\n",
    "    return mae, mse"
   ]
  },
  {
   "cell_type": "code",
   "execution_count": 40,
   "metadata": {},
   "outputs": [
    {
     "name": "stdout",
     "output_type": "stream",
     "text": [
      "Mean Absolute Error (MAE): 0.24\n",
      "Mean Squared Error (MSE): 0.124\n"
     ]
    },
    {
     "data": {
      "text/plain": [
       "(0.23967778778132703, 0.12438388091115385)"
      ]
     },
     "execution_count": 40,
     "metadata": {},
     "output_type": "execute_result"
    }
   ],
   "source": [
    "evaluate(df['Daily_Vol'].loc[aparchstud_res.index], garch11_res**2)"
   ]
  },
  {
   "cell_type": "code",
   "execution_count": null,
   "metadata": {},
   "outputs": [],
   "source": []
  },
  {
   "cell_type": "code",
   "execution_count": null,
   "metadata": {},
   "outputs": [],
   "source": []
  }
 ],
 "metadata": {
  "kernelspec": {
   "display_name": "MLFenv",
   "language": "python",
   "name": "python3"
  },
  "language_info": {
   "codemirror_mode": {
    "name": "ipython",
    "version": 3
   },
   "file_extension": ".py",
   "mimetype": "text/x-python",
   "name": "python",
   "nbconvert_exporter": "python",
   "pygments_lexer": "ipython3",
   "version": "3.9.16"
  },
  "orig_nbformat": 4
 },
 "nbformat": 4,
 "nbformat_minor": 2
}
